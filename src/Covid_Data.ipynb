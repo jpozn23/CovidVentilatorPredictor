{
  "nbformat": 4,
  "nbformat_minor": 0,
  "metadata": {
    "colab": {
      "provenance": []
    },
    "kernelspec": {
      "name": "python3",
      "display_name": "Python 3"
    },
    "language_info": {
      "name": "python"
    }
  },
  "cells": [
    {
      "cell_type": "markdown",
      "source": [
        "# COVID-19 Data - Ventilator"
      ],
      "metadata": {
        "id": "7mlHQp9qeivj"
      }
    },
    {
      "cell_type": "markdown",
      "source": [
        "# Get Data"
      ],
      "metadata": {
        "id": "b41sS829fA_8"
      }
    },
    {
      "cell_type": "code",
      "execution_count": null,
      "metadata": {
        "colab": {
          "base_uri": "https://localhost:8080/",
          "height": 72
        },
        "id": "zzHcmUokFZXH",
        "outputId": "a29ddf1f-8ff4-47f8-94b6-e788a560ed67"
      },
      "outputs": [
        {
          "output_type": "display_data",
          "data": {
            "text/plain": [
              "<IPython.core.display.HTML object>"
            ],
            "text/html": [
              "\n",
              "     <input type=\"file\" id=\"files-6b0ccc4f-4fa5-4731-95ce-30d67789aa0f\" name=\"files[]\" multiple disabled\n",
              "        style=\"border:none\" />\n",
              "     <output id=\"result-6b0ccc4f-4fa5-4731-95ce-30d67789aa0f\">\n",
              "      Upload widget is only available when the cell has been executed in the\n",
              "      current browser session. Please rerun this cell to enable.\n",
              "      </output>\n",
              "      <script>// Copyright 2017 Google LLC\n",
              "//\n",
              "// Licensed under the Apache License, Version 2.0 (the \"License\");\n",
              "// you may not use this file except in compliance with the License.\n",
              "// You may obtain a copy of the License at\n",
              "//\n",
              "//      http://www.apache.org/licenses/LICENSE-2.0\n",
              "//\n",
              "// Unless required by applicable law or agreed to in writing, software\n",
              "// distributed under the License is distributed on an \"AS IS\" BASIS,\n",
              "// WITHOUT WARRANTIES OR CONDITIONS OF ANY KIND, either express or implied.\n",
              "// See the License for the specific language governing permissions and\n",
              "// limitations under the License.\n",
              "\n",
              "/**\n",
              " * @fileoverview Helpers for google.colab Python module.\n",
              " */\n",
              "(function(scope) {\n",
              "function span(text, styleAttributes = {}) {\n",
              "  const element = document.createElement('span');\n",
              "  element.textContent = text;\n",
              "  for (const key of Object.keys(styleAttributes)) {\n",
              "    element.style[key] = styleAttributes[key];\n",
              "  }\n",
              "  return element;\n",
              "}\n",
              "\n",
              "// Max number of bytes which will be uploaded at a time.\n",
              "const MAX_PAYLOAD_SIZE = 100 * 1024;\n",
              "\n",
              "function _uploadFiles(inputId, outputId) {\n",
              "  const steps = uploadFilesStep(inputId, outputId);\n",
              "  const outputElement = document.getElementById(outputId);\n",
              "  // Cache steps on the outputElement to make it available for the next call\n",
              "  // to uploadFilesContinue from Python.\n",
              "  outputElement.steps = steps;\n",
              "\n",
              "  return _uploadFilesContinue(outputId);\n",
              "}\n",
              "\n",
              "// This is roughly an async generator (not supported in the browser yet),\n",
              "// where there are multiple asynchronous steps and the Python side is going\n",
              "// to poll for completion of each step.\n",
              "// This uses a Promise to block the python side on completion of each step,\n",
              "// then passes the result of the previous step as the input to the next step.\n",
              "function _uploadFilesContinue(outputId) {\n",
              "  const outputElement = document.getElementById(outputId);\n",
              "  const steps = outputElement.steps;\n",
              "\n",
              "  const next = steps.next(outputElement.lastPromiseValue);\n",
              "  return Promise.resolve(next.value.promise).then((value) => {\n",
              "    // Cache the last promise value to make it available to the next\n",
              "    // step of the generator.\n",
              "    outputElement.lastPromiseValue = value;\n",
              "    return next.value.response;\n",
              "  });\n",
              "}\n",
              "\n",
              "/**\n",
              " * Generator function which is called between each async step of the upload\n",
              " * process.\n",
              " * @param {string} inputId Element ID of the input file picker element.\n",
              " * @param {string} outputId Element ID of the output display.\n",
              " * @return {!Iterable<!Object>} Iterable of next steps.\n",
              " */\n",
              "function* uploadFilesStep(inputId, outputId) {\n",
              "  const inputElement = document.getElementById(inputId);\n",
              "  inputElement.disabled = false;\n",
              "\n",
              "  const outputElement = document.getElementById(outputId);\n",
              "  outputElement.innerHTML = '';\n",
              "\n",
              "  const pickedPromise = new Promise((resolve) => {\n",
              "    inputElement.addEventListener('change', (e) => {\n",
              "      resolve(e.target.files);\n",
              "    });\n",
              "  });\n",
              "\n",
              "  const cancel = document.createElement('button');\n",
              "  inputElement.parentElement.appendChild(cancel);\n",
              "  cancel.textContent = 'Cancel upload';\n",
              "  const cancelPromise = new Promise((resolve) => {\n",
              "    cancel.onclick = () => {\n",
              "      resolve(null);\n",
              "    };\n",
              "  });\n",
              "\n",
              "  // Wait for the user to pick the files.\n",
              "  const files = yield {\n",
              "    promise: Promise.race([pickedPromise, cancelPromise]),\n",
              "    response: {\n",
              "      action: 'starting',\n",
              "    }\n",
              "  };\n",
              "\n",
              "  cancel.remove();\n",
              "\n",
              "  // Disable the input element since further picks are not allowed.\n",
              "  inputElement.disabled = true;\n",
              "\n",
              "  if (!files) {\n",
              "    return {\n",
              "      response: {\n",
              "        action: 'complete',\n",
              "      }\n",
              "    };\n",
              "  }\n",
              "\n",
              "  for (const file of files) {\n",
              "    const li = document.createElement('li');\n",
              "    li.append(span(file.name, {fontWeight: 'bold'}));\n",
              "    li.append(span(\n",
              "        `(${file.type || 'n/a'}) - ${file.size} bytes, ` +\n",
              "        `last modified: ${\n",
              "            file.lastModifiedDate ? file.lastModifiedDate.toLocaleDateString() :\n",
              "                                    'n/a'} - `));\n",
              "    const percent = span('0% done');\n",
              "    li.appendChild(percent);\n",
              "\n",
              "    outputElement.appendChild(li);\n",
              "\n",
              "    const fileDataPromise = new Promise((resolve) => {\n",
              "      const reader = new FileReader();\n",
              "      reader.onload = (e) => {\n",
              "        resolve(e.target.result);\n",
              "      };\n",
              "      reader.readAsArrayBuffer(file);\n",
              "    });\n",
              "    // Wait for the data to be ready.\n",
              "    let fileData = yield {\n",
              "      promise: fileDataPromise,\n",
              "      response: {\n",
              "        action: 'continue',\n",
              "      }\n",
              "    };\n",
              "\n",
              "    // Use a chunked sending to avoid message size limits. See b/62115660.\n",
              "    let position = 0;\n",
              "    do {\n",
              "      const length = Math.min(fileData.byteLength - position, MAX_PAYLOAD_SIZE);\n",
              "      const chunk = new Uint8Array(fileData, position, length);\n",
              "      position += length;\n",
              "\n",
              "      const base64 = btoa(String.fromCharCode.apply(null, chunk));\n",
              "      yield {\n",
              "        response: {\n",
              "          action: 'append',\n",
              "          file: file.name,\n",
              "          data: base64,\n",
              "        },\n",
              "      };\n",
              "\n",
              "      let percentDone = fileData.byteLength === 0 ?\n",
              "          100 :\n",
              "          Math.round((position / fileData.byteLength) * 100);\n",
              "      percent.textContent = `${percentDone}% done`;\n",
              "\n",
              "    } while (position < fileData.byteLength);\n",
              "  }\n",
              "\n",
              "  // All done.\n",
              "  yield {\n",
              "    response: {\n",
              "      action: 'complete',\n",
              "    }\n",
              "  };\n",
              "}\n",
              "\n",
              "scope.google = scope.google || {};\n",
              "scope.google.colab = scope.google.colab || {};\n",
              "scope.google.colab._files = {\n",
              "  _uploadFiles,\n",
              "  _uploadFilesContinue,\n",
              "};\n",
              "})(self);\n",
              "</script> "
            ]
          },
          "metadata": {}
        },
        {
          "output_type": "stream",
          "name": "stdout",
          "text": [
            "Saving covid_data.csv to covid_data (6).csv\n"
          ]
        }
      ],
      "source": [
        "import pandas as pd\n",
        "import numpy as np\n",
        "import io\n",
        "import pickle\n",
        "\n",
        "from google.colab import files\n",
        " \n",
        "uploaded = files.upload()\n",
        "data = pd.read_csv(io.BytesIO(uploaded['covid_data.csv']))"
      ]
    },
    {
      "cell_type": "markdown",
      "source": [
        "# Filter and Visualize Data"
      ],
      "metadata": {
        "id": "ccBUl1PgfSwH"
      }
    },
    {
      "cell_type": "code",
      "source": [
        "data.columns"
      ],
      "metadata": {
        "colab": {
          "base_uri": "https://localhost:8080/"
        },
        "id": "6fDQH2HOFtrL",
        "outputId": "0bc7ad06-be2a-482e-fa4f-a1d2df12421b"
      },
      "execution_count": null,
      "outputs": [
        {
          "output_type": "execute_result",
          "data": {
            "text/plain": [
              "Index(['Age', 'SEX', 'RACE_categ', 'BMI', 'death', 'Vented', 'Alcohol_abuse',\n",
              "       'Smoker', 'HTN', 'HLD', 'DM', 'CAD', 'PAD', 'HF', 'AF',\n",
              "       'ESRD, on chronic dialysis', 'VTE', 'Cirrhosis',\n",
              "       'Chronic liver disease', 'CTD/AI disease', 'Chronic resp failure',\n",
              "       'Chronic lung disease', 'Creat_max', 'CRP_max', 'Ddimer_max', 'Plt_min',\n",
              "       'TBili_max'],\n",
              "      dtype='object')"
            ]
          },
          "metadata": {},
          "execution_count": 360
        }
      ]
    },
    {
      "cell_type": "code",
      "source": [
        "data.dtypes"
      ],
      "metadata": {
        "colab": {
          "base_uri": "https://localhost:8080/"
        },
        "id": "JRcVOGWdFerv",
        "outputId": "1676d02e-2ad5-43c2-9548-7b548e51923f"
      },
      "execution_count": null,
      "outputs": [
        {
          "output_type": "execute_result",
          "data": {
            "text/plain": [
              "Age                          float64\n",
              "SEX                           object\n",
              "RACE_categ                     int64\n",
              "BMI                          float64\n",
              "death                          int64\n",
              "Vented                         int64\n",
              "Alcohol_abuse                  int64\n",
              "Smoker                         int64\n",
              "HTN                            int64\n",
              "HLD                            int64\n",
              "DM                             int64\n",
              "CAD                            int64\n",
              "PAD                            int64\n",
              "HF                             int64\n",
              "AF                             int64\n",
              "ESRD, on chronic dialysis      int64\n",
              "VTE                            int64\n",
              "Cirrhosis                      int64\n",
              "Chronic liver disease          int64\n",
              "CTD/AI disease                 int64\n",
              "Chronic resp failure           int64\n",
              "Chronic lung disease           int64\n",
              "Creat_max                    float64\n",
              "CRP_max                      float64\n",
              "Ddimer_max                   float64\n",
              "Plt_min                      float64\n",
              "TBili_max                    float64\n",
              "dtype: object"
            ]
          },
          "metadata": {},
          "execution_count": 361
        }
      ]
    },
    {
      "cell_type": "code",
      "source": [
        "data = data.drop(['PAD', 'AF', 'ESRD, on chronic dialysis', 'VTE', 'Cirrhosis', 'Chronic liver disease', 'CTD/AI disease', 'Chronic resp failure'], axis=1)"
      ],
      "metadata": {
        "id": "WBfYPSKTM1Jx"
      },
      "execution_count": null,
      "outputs": []
    },
    {
      "cell_type": "code",
      "source": [
        "data.describe()"
      ],
      "metadata": {
        "colab": {
          "base_uri": "https://localhost:8080/",
          "height": 399
        },
        "id": "41BUmTWxvD6R",
        "outputId": "e8349bdf-3871-4f85-a9a6-9d2763afd992"
      },
      "execution_count": null,
      "outputs": [
        {
          "output_type": "execute_result",
          "data": {
            "text/plain": [
              "               Age   RACE_categ          BMI        death       Vented  \\\n",
              "count  3491.000000  3491.000000  3380.000000  3491.000000  3491.000000   \n",
              "mean     64.320395     1.509023    31.702580     0.144944     0.183901   \n",
              "std      17.539023     0.628471     8.781211     0.352095     0.387459   \n",
              "min       0.000000     0.000000    12.910000     0.000000     0.000000   \n",
              "25%      52.666667     1.000000    25.790000     0.000000     0.000000   \n",
              "50%      65.250000     2.000000    30.410000     0.000000     0.000000   \n",
              "75%      77.291667     2.000000    36.282500     0.000000     0.000000   \n",
              "max     103.666667     3.000000   103.920000     1.000000     1.000000   \n",
              "\n",
              "       Alcohol_abuse       Smoker          HTN          HLD           DM  \\\n",
              "count    3491.000000  3491.000000  3491.000000  3491.000000  3491.000000   \n",
              "mean        0.985964     1.118018     0.519049     0.104555     0.288742   \n",
              "std         0.683475     0.798167     0.499709     0.306022     0.453243   \n",
              "min         0.000000     0.000000     0.000000     0.000000     0.000000   \n",
              "25%         1.000000     1.000000     0.000000     0.000000     0.000000   \n",
              "50%         1.000000     1.000000     1.000000     0.000000     0.000000   \n",
              "75%         1.000000     2.000000     1.000000     0.000000     1.000000   \n",
              "max         2.000000     3.000000     1.000000     1.000000     1.000000   \n",
              "\n",
              "               CAD           HF  Chronic lung disease    Creat_max  \\\n",
              "count  3491.000000  3491.000000           3491.000000  2389.000000   \n",
              "mean      0.121742     0.078201              0.220854     2.321272   \n",
              "std       0.327034     0.268526              0.421731     2.962233   \n",
              "min       0.000000     0.000000              0.000000     0.180000   \n",
              "25%       0.000000     0.000000              0.000000     0.940000   \n",
              "50%       0.000000     0.000000              0.000000     1.270000   \n",
              "75%       0.000000     0.000000              0.000000     2.210000   \n",
              "max       1.000000     1.000000              2.000000    29.920000   \n",
              "\n",
              "           CRP_max   Ddimer_max      Plt_min    TBili_max  \n",
              "count  1917.000000  1408.000000  2405.000000  2288.000000  \n",
              "mean    144.682681  2552.371449   199.013306     0.884047  \n",
              "std     105.271884  2317.062097    91.051021     1.441509  \n",
              "min       0.200000   253.000000     2.000000     0.100000  \n",
              "25%      60.800000   793.000000   141.000000     0.500000  \n",
              "50%     122.600000  1494.000000   185.000000     0.600000  \n",
              "75%     215.900000  4015.250000   242.000000     0.900000  \n",
              "max     748.700000  9868.000000   681.000000    40.100000  "
            ],
            "text/html": [
              "\n",
              "  <div id=\"df-ed8597f0-c749-4297-8ff8-da5bfbf270e0\">\n",
              "    <div class=\"colab-df-container\">\n",
              "      <div>\n",
              "<style scoped>\n",
              "    .dataframe tbody tr th:only-of-type {\n",
              "        vertical-align: middle;\n",
              "    }\n",
              "\n",
              "    .dataframe tbody tr th {\n",
              "        vertical-align: top;\n",
              "    }\n",
              "\n",
              "    .dataframe thead th {\n",
              "        text-align: right;\n",
              "    }\n",
              "</style>\n",
              "<table border=\"1\" class=\"dataframe\">\n",
              "  <thead>\n",
              "    <tr style=\"text-align: right;\">\n",
              "      <th></th>\n",
              "      <th>Age</th>\n",
              "      <th>RACE_categ</th>\n",
              "      <th>BMI</th>\n",
              "      <th>death</th>\n",
              "      <th>Vented</th>\n",
              "      <th>Alcohol_abuse</th>\n",
              "      <th>Smoker</th>\n",
              "      <th>HTN</th>\n",
              "      <th>HLD</th>\n",
              "      <th>DM</th>\n",
              "      <th>CAD</th>\n",
              "      <th>HF</th>\n",
              "      <th>Chronic lung disease</th>\n",
              "      <th>Creat_max</th>\n",
              "      <th>CRP_max</th>\n",
              "      <th>Ddimer_max</th>\n",
              "      <th>Plt_min</th>\n",
              "      <th>TBili_max</th>\n",
              "    </tr>\n",
              "  </thead>\n",
              "  <tbody>\n",
              "    <tr>\n",
              "      <th>count</th>\n",
              "      <td>3491.000000</td>\n",
              "      <td>3491.000000</td>\n",
              "      <td>3380.000000</td>\n",
              "      <td>3491.000000</td>\n",
              "      <td>3491.000000</td>\n",
              "      <td>3491.000000</td>\n",
              "      <td>3491.000000</td>\n",
              "      <td>3491.000000</td>\n",
              "      <td>3491.000000</td>\n",
              "      <td>3491.000000</td>\n",
              "      <td>3491.000000</td>\n",
              "      <td>3491.000000</td>\n",
              "      <td>3491.000000</td>\n",
              "      <td>2389.000000</td>\n",
              "      <td>1917.000000</td>\n",
              "      <td>1408.000000</td>\n",
              "      <td>2405.000000</td>\n",
              "      <td>2288.000000</td>\n",
              "    </tr>\n",
              "    <tr>\n",
              "      <th>mean</th>\n",
              "      <td>64.320395</td>\n",
              "      <td>1.509023</td>\n",
              "      <td>31.702580</td>\n",
              "      <td>0.144944</td>\n",
              "      <td>0.183901</td>\n",
              "      <td>0.985964</td>\n",
              "      <td>1.118018</td>\n",
              "      <td>0.519049</td>\n",
              "      <td>0.104555</td>\n",
              "      <td>0.288742</td>\n",
              "      <td>0.121742</td>\n",
              "      <td>0.078201</td>\n",
              "      <td>0.220854</td>\n",
              "      <td>2.321272</td>\n",
              "      <td>144.682681</td>\n",
              "      <td>2552.371449</td>\n",
              "      <td>199.013306</td>\n",
              "      <td>0.884047</td>\n",
              "    </tr>\n",
              "    <tr>\n",
              "      <th>std</th>\n",
              "      <td>17.539023</td>\n",
              "      <td>0.628471</td>\n",
              "      <td>8.781211</td>\n",
              "      <td>0.352095</td>\n",
              "      <td>0.387459</td>\n",
              "      <td>0.683475</td>\n",
              "      <td>0.798167</td>\n",
              "      <td>0.499709</td>\n",
              "      <td>0.306022</td>\n",
              "      <td>0.453243</td>\n",
              "      <td>0.327034</td>\n",
              "      <td>0.268526</td>\n",
              "      <td>0.421731</td>\n",
              "      <td>2.962233</td>\n",
              "      <td>105.271884</td>\n",
              "      <td>2317.062097</td>\n",
              "      <td>91.051021</td>\n",
              "      <td>1.441509</td>\n",
              "    </tr>\n",
              "    <tr>\n",
              "      <th>min</th>\n",
              "      <td>0.000000</td>\n",
              "      <td>0.000000</td>\n",
              "      <td>12.910000</td>\n",
              "      <td>0.000000</td>\n",
              "      <td>0.000000</td>\n",
              "      <td>0.000000</td>\n",
              "      <td>0.000000</td>\n",
              "      <td>0.000000</td>\n",
              "      <td>0.000000</td>\n",
              "      <td>0.000000</td>\n",
              "      <td>0.000000</td>\n",
              "      <td>0.000000</td>\n",
              "      <td>0.000000</td>\n",
              "      <td>0.180000</td>\n",
              "      <td>0.200000</td>\n",
              "      <td>253.000000</td>\n",
              "      <td>2.000000</td>\n",
              "      <td>0.100000</td>\n",
              "    </tr>\n",
              "    <tr>\n",
              "      <th>25%</th>\n",
              "      <td>52.666667</td>\n",
              "      <td>1.000000</td>\n",
              "      <td>25.790000</td>\n",
              "      <td>0.000000</td>\n",
              "      <td>0.000000</td>\n",
              "      <td>1.000000</td>\n",
              "      <td>1.000000</td>\n",
              "      <td>0.000000</td>\n",
              "      <td>0.000000</td>\n",
              "      <td>0.000000</td>\n",
              "      <td>0.000000</td>\n",
              "      <td>0.000000</td>\n",
              "      <td>0.000000</td>\n",
              "      <td>0.940000</td>\n",
              "      <td>60.800000</td>\n",
              "      <td>793.000000</td>\n",
              "      <td>141.000000</td>\n",
              "      <td>0.500000</td>\n",
              "    </tr>\n",
              "    <tr>\n",
              "      <th>50%</th>\n",
              "      <td>65.250000</td>\n",
              "      <td>2.000000</td>\n",
              "      <td>30.410000</td>\n",
              "      <td>0.000000</td>\n",
              "      <td>0.000000</td>\n",
              "      <td>1.000000</td>\n",
              "      <td>1.000000</td>\n",
              "      <td>1.000000</td>\n",
              "      <td>0.000000</td>\n",
              "      <td>0.000000</td>\n",
              "      <td>0.000000</td>\n",
              "      <td>0.000000</td>\n",
              "      <td>0.000000</td>\n",
              "      <td>1.270000</td>\n",
              "      <td>122.600000</td>\n",
              "      <td>1494.000000</td>\n",
              "      <td>185.000000</td>\n",
              "      <td>0.600000</td>\n",
              "    </tr>\n",
              "    <tr>\n",
              "      <th>75%</th>\n",
              "      <td>77.291667</td>\n",
              "      <td>2.000000</td>\n",
              "      <td>36.282500</td>\n",
              "      <td>0.000000</td>\n",
              "      <td>0.000000</td>\n",
              "      <td>1.000000</td>\n",
              "      <td>2.000000</td>\n",
              "      <td>1.000000</td>\n",
              "      <td>0.000000</td>\n",
              "      <td>1.000000</td>\n",
              "      <td>0.000000</td>\n",
              "      <td>0.000000</td>\n",
              "      <td>0.000000</td>\n",
              "      <td>2.210000</td>\n",
              "      <td>215.900000</td>\n",
              "      <td>4015.250000</td>\n",
              "      <td>242.000000</td>\n",
              "      <td>0.900000</td>\n",
              "    </tr>\n",
              "    <tr>\n",
              "      <th>max</th>\n",
              "      <td>103.666667</td>\n",
              "      <td>3.000000</td>\n",
              "      <td>103.920000</td>\n",
              "      <td>1.000000</td>\n",
              "      <td>1.000000</td>\n",
              "      <td>2.000000</td>\n",
              "      <td>3.000000</td>\n",
              "      <td>1.000000</td>\n",
              "      <td>1.000000</td>\n",
              "      <td>1.000000</td>\n",
              "      <td>1.000000</td>\n",
              "      <td>1.000000</td>\n",
              "      <td>2.000000</td>\n",
              "      <td>29.920000</td>\n",
              "      <td>748.700000</td>\n",
              "      <td>9868.000000</td>\n",
              "      <td>681.000000</td>\n",
              "      <td>40.100000</td>\n",
              "    </tr>\n",
              "  </tbody>\n",
              "</table>\n",
              "</div>\n",
              "      <button class=\"colab-df-convert\" onclick=\"convertToInteractive('df-ed8597f0-c749-4297-8ff8-da5bfbf270e0')\"\n",
              "              title=\"Convert this dataframe to an interactive table.\"\n",
              "              style=\"display:none;\">\n",
              "        \n",
              "  <svg xmlns=\"http://www.w3.org/2000/svg\" height=\"24px\"viewBox=\"0 0 24 24\"\n",
              "       width=\"24px\">\n",
              "    <path d=\"M0 0h24v24H0V0z\" fill=\"none\"/>\n",
              "    <path d=\"M18.56 5.44l.94 2.06.94-2.06 2.06-.94-2.06-.94-.94-2.06-.94 2.06-2.06.94zm-11 1L8.5 8.5l.94-2.06 2.06-.94-2.06-.94L8.5 2.5l-.94 2.06-2.06.94zm10 10l.94 2.06.94-2.06 2.06-.94-2.06-.94-.94-2.06-.94 2.06-2.06.94z\"/><path d=\"M17.41 7.96l-1.37-1.37c-.4-.4-.92-.59-1.43-.59-.52 0-1.04.2-1.43.59L10.3 9.45l-7.72 7.72c-.78.78-.78 2.05 0 2.83L4 21.41c.39.39.9.59 1.41.59.51 0 1.02-.2 1.41-.59l7.78-7.78 2.81-2.81c.8-.78.8-2.07 0-2.86zM5.41 20L4 18.59l7.72-7.72 1.47 1.35L5.41 20z\"/>\n",
              "  </svg>\n",
              "      </button>\n",
              "      \n",
              "  <style>\n",
              "    .colab-df-container {\n",
              "      display:flex;\n",
              "      flex-wrap:wrap;\n",
              "      gap: 12px;\n",
              "    }\n",
              "\n",
              "    .colab-df-convert {\n",
              "      background-color: #E8F0FE;\n",
              "      border: none;\n",
              "      border-radius: 50%;\n",
              "      cursor: pointer;\n",
              "      display: none;\n",
              "      fill: #1967D2;\n",
              "      height: 32px;\n",
              "      padding: 0 0 0 0;\n",
              "      width: 32px;\n",
              "    }\n",
              "\n",
              "    .colab-df-convert:hover {\n",
              "      background-color: #E2EBFA;\n",
              "      box-shadow: 0px 1px 2px rgba(60, 64, 67, 0.3), 0px 1px 3px 1px rgba(60, 64, 67, 0.15);\n",
              "      fill: #174EA6;\n",
              "    }\n",
              "\n",
              "    [theme=dark] .colab-df-convert {\n",
              "      background-color: #3B4455;\n",
              "      fill: #D2E3FC;\n",
              "    }\n",
              "\n",
              "    [theme=dark] .colab-df-convert:hover {\n",
              "      background-color: #434B5C;\n",
              "      box-shadow: 0px 1px 3px 1px rgba(0, 0, 0, 0.15);\n",
              "      filter: drop-shadow(0px 1px 2px rgba(0, 0, 0, 0.3));\n",
              "      fill: #FFFFFF;\n",
              "    }\n",
              "  </style>\n",
              "\n",
              "      <script>\n",
              "        const buttonEl =\n",
              "          document.querySelector('#df-ed8597f0-c749-4297-8ff8-da5bfbf270e0 button.colab-df-convert');\n",
              "        buttonEl.style.display =\n",
              "          google.colab.kernel.accessAllowed ? 'block' : 'none';\n",
              "\n",
              "        async function convertToInteractive(key) {\n",
              "          const element = document.querySelector('#df-ed8597f0-c749-4297-8ff8-da5bfbf270e0');\n",
              "          const dataTable =\n",
              "            await google.colab.kernel.invokeFunction('convertToInteractive',\n",
              "                                                     [key], {});\n",
              "          if (!dataTable) return;\n",
              "\n",
              "          const docLinkHtml = 'Like what you see? Visit the ' +\n",
              "            '<a target=\"_blank\" href=https://colab.research.google.com/notebooks/data_table.ipynb>data table notebook</a>'\n",
              "            + ' to learn more about interactive tables.';\n",
              "          element.innerHTML = '';\n",
              "          dataTable['output_type'] = 'display_data';\n",
              "          await google.colab.output.renderOutput(dataTable, element);\n",
              "          const docLink = document.createElement('div');\n",
              "          docLink.innerHTML = docLinkHtml;\n",
              "          element.appendChild(docLink);\n",
              "        }\n",
              "      </script>\n",
              "    </div>\n",
              "  </div>\n",
              "  "
            ]
          },
          "metadata": {},
          "execution_count": 363
        }
      ]
    },
    {
      "cell_type": "code",
      "source": [
        "# Convert null values to average of column - dont want to just lose data\n",
        "columns = ['BMI', 'Creat_max', 'CRP_max', 'Ddimer_max', 'Plt_min', 'TBili_max']\n",
        "for col in columns:\n",
        "  data[col] = data[col].fillna(data[col].mean())\n"
      ],
      "metadata": {
        "id": "VQyCqCXv0nV_"
      },
      "execution_count": null,
      "outputs": []
    },
    {
      "cell_type": "code",
      "source": [
        "data.describe()"
      ],
      "metadata": {
        "colab": {
          "base_uri": "https://localhost:8080/",
          "height": 399
        },
        "id": "rAkiPNkX6Mva",
        "outputId": "71de092e-84cc-4b3d-ec37-6aacdf0df9ce"
      },
      "execution_count": null,
      "outputs": [
        {
          "output_type": "execute_result",
          "data": {
            "text/plain": [
              "               Age   RACE_categ          BMI        death       Vented  \\\n",
              "count  3491.000000  3491.000000  3491.000000  3491.000000  3491.000000   \n",
              "mean     64.320395     1.509023    31.702580     0.144944     0.183901   \n",
              "std      17.539023     0.628471     8.640439     0.352095     0.387459   \n",
              "min       0.000000     0.000000    12.910000     0.000000     0.000000   \n",
              "25%      52.666667     1.000000    25.905000     0.000000     0.000000   \n",
              "50%      65.250000     2.000000    30.730000     0.000000     0.000000   \n",
              "75%      77.291667     2.000000    36.040000     0.000000     0.000000   \n",
              "max     103.666667     3.000000   103.920000     1.000000     1.000000   \n",
              "\n",
              "       Alcohol_abuse       Smoker          HTN          HLD           DM  \\\n",
              "count    3491.000000  3491.000000  3491.000000  3491.000000  3491.000000   \n",
              "mean        0.985964     1.118018     0.519049     0.104555     0.288742   \n",
              "std         0.683475     0.798167     0.499709     0.306022     0.453243   \n",
              "min         0.000000     0.000000     0.000000     0.000000     0.000000   \n",
              "25%         1.000000     1.000000     0.000000     0.000000     0.000000   \n",
              "50%         1.000000     1.000000     1.000000     0.000000     0.000000   \n",
              "75%         1.000000     2.000000     1.000000     0.000000     1.000000   \n",
              "max         2.000000     3.000000     1.000000     1.000000     1.000000   \n",
              "\n",
              "               CAD           HF  Chronic lung disease    Creat_max  \\\n",
              "count  3491.000000  3491.000000           3491.000000  3491.000000   \n",
              "mean      0.121742     0.078201              0.220854     2.321272   \n",
              "std       0.327034     0.268526              0.421731     2.450325   \n",
              "min       0.000000     0.000000              0.000000     0.180000   \n",
              "25%       0.000000     0.000000              0.000000     1.080000   \n",
              "50%       0.000000     0.000000              0.000000     2.040000   \n",
              "75%       0.000000     0.000000              0.000000     2.321272   \n",
              "max       1.000000     1.000000              2.000000    29.920000   \n",
              "\n",
              "           CRP_max   Ddimer_max      Plt_min    TBili_max  \n",
              "count  3491.000000  3491.000000  3491.000000  3491.000000  \n",
              "mean    144.682681  2552.371449   199.013306     0.884047  \n",
              "std      78.000509  1471.200989    75.568246     1.166911  \n",
              "min       0.200000   253.000000     2.000000     0.100000  \n",
              "25%     110.250000  2127.000000   160.000000     0.600000  \n",
              "50%     144.682681  2552.371449   199.013306     0.884047  \n",
              "75%     144.682681  2552.371449   212.000000     0.884047  \n",
              "max     748.700000  9868.000000   681.000000    40.100000  "
            ],
            "text/html": [
              "\n",
              "  <div id=\"df-d6c0d04f-29b3-49d7-a056-f97ec25730c7\">\n",
              "    <div class=\"colab-df-container\">\n",
              "      <div>\n",
              "<style scoped>\n",
              "    .dataframe tbody tr th:only-of-type {\n",
              "        vertical-align: middle;\n",
              "    }\n",
              "\n",
              "    .dataframe tbody tr th {\n",
              "        vertical-align: top;\n",
              "    }\n",
              "\n",
              "    .dataframe thead th {\n",
              "        text-align: right;\n",
              "    }\n",
              "</style>\n",
              "<table border=\"1\" class=\"dataframe\">\n",
              "  <thead>\n",
              "    <tr style=\"text-align: right;\">\n",
              "      <th></th>\n",
              "      <th>Age</th>\n",
              "      <th>RACE_categ</th>\n",
              "      <th>BMI</th>\n",
              "      <th>death</th>\n",
              "      <th>Vented</th>\n",
              "      <th>Alcohol_abuse</th>\n",
              "      <th>Smoker</th>\n",
              "      <th>HTN</th>\n",
              "      <th>HLD</th>\n",
              "      <th>DM</th>\n",
              "      <th>CAD</th>\n",
              "      <th>HF</th>\n",
              "      <th>Chronic lung disease</th>\n",
              "      <th>Creat_max</th>\n",
              "      <th>CRP_max</th>\n",
              "      <th>Ddimer_max</th>\n",
              "      <th>Plt_min</th>\n",
              "      <th>TBili_max</th>\n",
              "    </tr>\n",
              "  </thead>\n",
              "  <tbody>\n",
              "    <tr>\n",
              "      <th>count</th>\n",
              "      <td>3491.000000</td>\n",
              "      <td>3491.000000</td>\n",
              "      <td>3491.000000</td>\n",
              "      <td>3491.000000</td>\n",
              "      <td>3491.000000</td>\n",
              "      <td>3491.000000</td>\n",
              "      <td>3491.000000</td>\n",
              "      <td>3491.000000</td>\n",
              "      <td>3491.000000</td>\n",
              "      <td>3491.000000</td>\n",
              "      <td>3491.000000</td>\n",
              "      <td>3491.000000</td>\n",
              "      <td>3491.000000</td>\n",
              "      <td>3491.000000</td>\n",
              "      <td>3491.000000</td>\n",
              "      <td>3491.000000</td>\n",
              "      <td>3491.000000</td>\n",
              "      <td>3491.000000</td>\n",
              "    </tr>\n",
              "    <tr>\n",
              "      <th>mean</th>\n",
              "      <td>64.320395</td>\n",
              "      <td>1.509023</td>\n",
              "      <td>31.702580</td>\n",
              "      <td>0.144944</td>\n",
              "      <td>0.183901</td>\n",
              "      <td>0.985964</td>\n",
              "      <td>1.118018</td>\n",
              "      <td>0.519049</td>\n",
              "      <td>0.104555</td>\n",
              "      <td>0.288742</td>\n",
              "      <td>0.121742</td>\n",
              "      <td>0.078201</td>\n",
              "      <td>0.220854</td>\n",
              "      <td>2.321272</td>\n",
              "      <td>144.682681</td>\n",
              "      <td>2552.371449</td>\n",
              "      <td>199.013306</td>\n",
              "      <td>0.884047</td>\n",
              "    </tr>\n",
              "    <tr>\n",
              "      <th>std</th>\n",
              "      <td>17.539023</td>\n",
              "      <td>0.628471</td>\n",
              "      <td>8.640439</td>\n",
              "      <td>0.352095</td>\n",
              "      <td>0.387459</td>\n",
              "      <td>0.683475</td>\n",
              "      <td>0.798167</td>\n",
              "      <td>0.499709</td>\n",
              "      <td>0.306022</td>\n",
              "      <td>0.453243</td>\n",
              "      <td>0.327034</td>\n",
              "      <td>0.268526</td>\n",
              "      <td>0.421731</td>\n",
              "      <td>2.450325</td>\n",
              "      <td>78.000509</td>\n",
              "      <td>1471.200989</td>\n",
              "      <td>75.568246</td>\n",
              "      <td>1.166911</td>\n",
              "    </tr>\n",
              "    <tr>\n",
              "      <th>min</th>\n",
              "      <td>0.000000</td>\n",
              "      <td>0.000000</td>\n",
              "      <td>12.910000</td>\n",
              "      <td>0.000000</td>\n",
              "      <td>0.000000</td>\n",
              "      <td>0.000000</td>\n",
              "      <td>0.000000</td>\n",
              "      <td>0.000000</td>\n",
              "      <td>0.000000</td>\n",
              "      <td>0.000000</td>\n",
              "      <td>0.000000</td>\n",
              "      <td>0.000000</td>\n",
              "      <td>0.000000</td>\n",
              "      <td>0.180000</td>\n",
              "      <td>0.200000</td>\n",
              "      <td>253.000000</td>\n",
              "      <td>2.000000</td>\n",
              "      <td>0.100000</td>\n",
              "    </tr>\n",
              "    <tr>\n",
              "      <th>25%</th>\n",
              "      <td>52.666667</td>\n",
              "      <td>1.000000</td>\n",
              "      <td>25.905000</td>\n",
              "      <td>0.000000</td>\n",
              "      <td>0.000000</td>\n",
              "      <td>1.000000</td>\n",
              "      <td>1.000000</td>\n",
              "      <td>0.000000</td>\n",
              "      <td>0.000000</td>\n",
              "      <td>0.000000</td>\n",
              "      <td>0.000000</td>\n",
              "      <td>0.000000</td>\n",
              "      <td>0.000000</td>\n",
              "      <td>1.080000</td>\n",
              "      <td>110.250000</td>\n",
              "      <td>2127.000000</td>\n",
              "      <td>160.000000</td>\n",
              "      <td>0.600000</td>\n",
              "    </tr>\n",
              "    <tr>\n",
              "      <th>50%</th>\n",
              "      <td>65.250000</td>\n",
              "      <td>2.000000</td>\n",
              "      <td>30.730000</td>\n",
              "      <td>0.000000</td>\n",
              "      <td>0.000000</td>\n",
              "      <td>1.000000</td>\n",
              "      <td>1.000000</td>\n",
              "      <td>1.000000</td>\n",
              "      <td>0.000000</td>\n",
              "      <td>0.000000</td>\n",
              "      <td>0.000000</td>\n",
              "      <td>0.000000</td>\n",
              "      <td>0.000000</td>\n",
              "      <td>2.040000</td>\n",
              "      <td>144.682681</td>\n",
              "      <td>2552.371449</td>\n",
              "      <td>199.013306</td>\n",
              "      <td>0.884047</td>\n",
              "    </tr>\n",
              "    <tr>\n",
              "      <th>75%</th>\n",
              "      <td>77.291667</td>\n",
              "      <td>2.000000</td>\n",
              "      <td>36.040000</td>\n",
              "      <td>0.000000</td>\n",
              "      <td>0.000000</td>\n",
              "      <td>1.000000</td>\n",
              "      <td>2.000000</td>\n",
              "      <td>1.000000</td>\n",
              "      <td>0.000000</td>\n",
              "      <td>1.000000</td>\n",
              "      <td>0.000000</td>\n",
              "      <td>0.000000</td>\n",
              "      <td>0.000000</td>\n",
              "      <td>2.321272</td>\n",
              "      <td>144.682681</td>\n",
              "      <td>2552.371449</td>\n",
              "      <td>212.000000</td>\n",
              "      <td>0.884047</td>\n",
              "    </tr>\n",
              "    <tr>\n",
              "      <th>max</th>\n",
              "      <td>103.666667</td>\n",
              "      <td>3.000000</td>\n",
              "      <td>103.920000</td>\n",
              "      <td>1.000000</td>\n",
              "      <td>1.000000</td>\n",
              "      <td>2.000000</td>\n",
              "      <td>3.000000</td>\n",
              "      <td>1.000000</td>\n",
              "      <td>1.000000</td>\n",
              "      <td>1.000000</td>\n",
              "      <td>1.000000</td>\n",
              "      <td>1.000000</td>\n",
              "      <td>2.000000</td>\n",
              "      <td>29.920000</td>\n",
              "      <td>748.700000</td>\n",
              "      <td>9868.000000</td>\n",
              "      <td>681.000000</td>\n",
              "      <td>40.100000</td>\n",
              "    </tr>\n",
              "  </tbody>\n",
              "</table>\n",
              "</div>\n",
              "      <button class=\"colab-df-convert\" onclick=\"convertToInteractive('df-d6c0d04f-29b3-49d7-a056-f97ec25730c7')\"\n",
              "              title=\"Convert this dataframe to an interactive table.\"\n",
              "              style=\"display:none;\">\n",
              "        \n",
              "  <svg xmlns=\"http://www.w3.org/2000/svg\" height=\"24px\"viewBox=\"0 0 24 24\"\n",
              "       width=\"24px\">\n",
              "    <path d=\"M0 0h24v24H0V0z\" fill=\"none\"/>\n",
              "    <path d=\"M18.56 5.44l.94 2.06.94-2.06 2.06-.94-2.06-.94-.94-2.06-.94 2.06-2.06.94zm-11 1L8.5 8.5l.94-2.06 2.06-.94-2.06-.94L8.5 2.5l-.94 2.06-2.06.94zm10 10l.94 2.06.94-2.06 2.06-.94-2.06-.94-.94-2.06-.94 2.06-2.06.94z\"/><path d=\"M17.41 7.96l-1.37-1.37c-.4-.4-.92-.59-1.43-.59-.52 0-1.04.2-1.43.59L10.3 9.45l-7.72 7.72c-.78.78-.78 2.05 0 2.83L4 21.41c.39.39.9.59 1.41.59.51 0 1.02-.2 1.41-.59l7.78-7.78 2.81-2.81c.8-.78.8-2.07 0-2.86zM5.41 20L4 18.59l7.72-7.72 1.47 1.35L5.41 20z\"/>\n",
              "  </svg>\n",
              "      </button>\n",
              "      \n",
              "  <style>\n",
              "    .colab-df-container {\n",
              "      display:flex;\n",
              "      flex-wrap:wrap;\n",
              "      gap: 12px;\n",
              "    }\n",
              "\n",
              "    .colab-df-convert {\n",
              "      background-color: #E8F0FE;\n",
              "      border: none;\n",
              "      border-radius: 50%;\n",
              "      cursor: pointer;\n",
              "      display: none;\n",
              "      fill: #1967D2;\n",
              "      height: 32px;\n",
              "      padding: 0 0 0 0;\n",
              "      width: 32px;\n",
              "    }\n",
              "\n",
              "    .colab-df-convert:hover {\n",
              "      background-color: #E2EBFA;\n",
              "      box-shadow: 0px 1px 2px rgba(60, 64, 67, 0.3), 0px 1px 3px 1px rgba(60, 64, 67, 0.15);\n",
              "      fill: #174EA6;\n",
              "    }\n",
              "\n",
              "    [theme=dark] .colab-df-convert {\n",
              "      background-color: #3B4455;\n",
              "      fill: #D2E3FC;\n",
              "    }\n",
              "\n",
              "    [theme=dark] .colab-df-convert:hover {\n",
              "      background-color: #434B5C;\n",
              "      box-shadow: 0px 1px 3px 1px rgba(0, 0, 0, 0.15);\n",
              "      filter: drop-shadow(0px 1px 2px rgba(0, 0, 0, 0.3));\n",
              "      fill: #FFFFFF;\n",
              "    }\n",
              "  </style>\n",
              "\n",
              "      <script>\n",
              "        const buttonEl =\n",
              "          document.querySelector('#df-d6c0d04f-29b3-49d7-a056-f97ec25730c7 button.colab-df-convert');\n",
              "        buttonEl.style.display =\n",
              "          google.colab.kernel.accessAllowed ? 'block' : 'none';\n",
              "\n",
              "        async function convertToInteractive(key) {\n",
              "          const element = document.querySelector('#df-d6c0d04f-29b3-49d7-a056-f97ec25730c7');\n",
              "          const dataTable =\n",
              "            await google.colab.kernel.invokeFunction('convertToInteractive',\n",
              "                                                     [key], {});\n",
              "          if (!dataTable) return;\n",
              "\n",
              "          const docLinkHtml = 'Like what you see? Visit the ' +\n",
              "            '<a target=\"_blank\" href=https://colab.research.google.com/notebooks/data_table.ipynb>data table notebook</a>'\n",
              "            + ' to learn more about interactive tables.';\n",
              "          element.innerHTML = '';\n",
              "          dataTable['output_type'] = 'display_data';\n",
              "          await google.colab.output.renderOutput(dataTable, element);\n",
              "          const docLink = document.createElement('div');\n",
              "          docLink.innerHTML = docLinkHtml;\n",
              "          element.appendChild(docLink);\n",
              "        }\n",
              "      </script>\n",
              "    </div>\n",
              "  </div>\n",
              "  "
            ]
          },
          "metadata": {},
          "execution_count": 365
        }
      ]
    },
    {
      "cell_type": "code",
      "source": [
        "%matplotlib inline\n",
        "import matplotlib.pyplot as plt\n",
        "\n",
        "data.hist(bins = 50, figsize = (20,15))\n",
        "plt.show()"
      ],
      "metadata": {
        "colab": {
          "base_uri": "https://localhost:8080/",
          "height": 879
        },
        "id": "qdBn-Z7lCc-7",
        "outputId": "76abb785-bd58-43ec-a6f6-9d601c05da24"
      },
      "execution_count": null,
      "outputs": [
        {
          "output_type": "display_data",
          "data": {
            "text/plain": [
              "<Figure size 1440x1080 with 20 Axes>"
            ],
            "image/png": "[encoded data removed]"
          },
          "metadata": {
            "needs_background": "light"
          }
        }
      ]
    },
    {
      "cell_type": "code",
      "source": [
        "# Filter data - get rid of outliers\n",
        "filteredData = data[data['Creat_max'] < 30]\n",
        "filteredData = filteredData[filteredData['CRP_max'] < 600]\n",
        "filteredData = filteredData[filteredData['Ddimer_max'] < 8000]\n",
        "filteredData = filteredData[filteredData['Plt_min'] < 600]\n",
        "filteredData = filteredData[filteredData['TBili_max'] < 40]\n",
        "filteredData = filteredData[filteredData['BMI'] < 80]\n",
        "filteredData = filteredData[filteredData['Age'] > 10]"
      ],
      "metadata": {
        "id": "toc9NiG1GnX9"
      },
      "execution_count": null,
      "outputs": []
    },
    {
      "cell_type": "code",
      "source": [
        "filteredData.hist(bins = 50, figsize = (20,15))\n",
        "plt.show()"
      ],
      "metadata": {
        "colab": {
          "base_uri": "https://localhost:8080/",
          "height": 879
        },
        "id": "hqI4Jvb-ITJZ",
        "outputId": "aafe381a-d57b-4ecf-9e72-11c297e43c8b"
      },
      "execution_count": null,
      "outputs": [
        {
          "output_type": "display_data",
          "data": {
            "text/plain": [
              "<Figure size 1440x1080 with 20 Axes>"
            ],
            "image/png": "[encoded data removed]"
          },
          "metadata": {
            "needs_background": "light"
          }
        }
      ]
    },
    {
      "cell_type": "code",
      "source": [
        "filteredData.count()"
      ],
      "metadata": {
        "colab": {
          "base_uri": "https://localhost:8080/"
        },
        "id": "OsUvE4ryIgzP",
        "outputId": "ae87bfcd-adbe-43a8-d3b5-657205853720"
      },
      "execution_count": null,
      "outputs": [
        {
          "output_type": "execute_result",
          "data": {
            "text/plain": [
              "Age                     3452\n",
              "SEX                     3452\n",
              "RACE_categ              3452\n",
              "BMI                     3452\n",
              "death                   3452\n",
              "Vented                  3452\n",
              "Alcohol_abuse           3452\n",
              "Smoker                  3452\n",
              "HTN                     3452\n",
              "HLD                     3452\n",
              "DM                      3452\n",
              "CAD                     3452\n",
              "HF                      3452\n",
              "Chronic lung disease    3452\n",
              "Creat_max               3452\n",
              "CRP_max                 3452\n",
              "Ddimer_max              3452\n",
              "Plt_min                 3452\n",
              "TBili_max               3452\n",
              "dtype: int64"
            ]
          },
          "metadata": {},
          "execution_count": 369
        }
      ]
    },
    {
      "cell_type": "code",
      "source": [
        "vented = filteredData[filteredData['Vented'] == 1]\n",
        "not_vented = filteredData[filteredData['Vented'] == 0]\n",
        "alive = filteredData[filteredData['death'] == 0]\n",
        "died = filteredData[filteredData['death'] == 1]"
      ],
      "metadata": {
        "id": "HiZWfXilJB5k"
      },
      "execution_count": null,
      "outputs": []
    },
    {
      "cell_type": "markdown",
      "source": [
        "# Model - All Patients"
      ],
      "metadata": {
        "id": "A3o9OUF8jtaM"
      }
    },
    {
      "cell_type": "code",
      "source": [
        "from sklearn import metrics\n",
        "from sklearn.model_selection import train_test_split\n",
        "import xgboost as xgb"
      ],
      "metadata": {
        "id": "1BV1PJUpl5_z"
      },
      "execution_count": null,
      "outputs": []
    },
    {
      "cell_type": "code",
      "source": [
        "X = filteredData.drop(columns = ['death', 'SEX'])\n",
        "y = filteredData['death']"
      ],
      "metadata": {
        "id": "SnOK9Da7KgBr"
      },
      "execution_count": null,
      "outputs": []
    },
    {
      "cell_type": "code",
      "source": [
        "X_train, X_test, y_train, y_test = train_test_split(X, y, test_size=0.3)"
      ],
      "metadata": {
        "id": "OiZZ17KSbSCt"
      },
      "execution_count": null,
      "outputs": []
    },
    {
      "cell_type": "code",
      "source": [
        "model = xgb.XGBClassifier()\n",
        "model.fit(X_train, y_train)"
      ],
      "metadata": {
        "colab": {
          "base_uri": "https://localhost:8080/"
        },
        "id": "PQxq_krXhXMw",
        "outputId": "9626af6a-d091-40e3-f622-aedf2eb90326"
      },
      "execution_count": null,
      "outputs": [
        {
          "output_type": "execute_result",
          "data": {
            "text/plain": [
              "XGBClassifier()"
            ]
          },
          "metadata": {},
          "execution_count": 374
        }
      ]
    },
    {
      "cell_type": "code",
      "source": [
        "booster = model.get_booster()\n",
        "booster.save_model('all_patients_model.bin')"
      ],
      "metadata": {
        "id": "WGrHFWpqj_KF"
      },
      "execution_count": null,
      "outputs": []
    },
    {
      "cell_type": "code",
      "source": [
        "expected_y  = y_test\n",
        "predicted_y = model.predict(X_test)"
      ],
      "metadata": {
        "id": "Pa8Jae35heH7"
      },
      "execution_count": null,
      "outputs": []
    },
    {
      "cell_type": "code",
      "source": [
        "print(metrics.classification_report(expected_y, predicted_y))\n",
        "print(metrics.confusion_matrix(expected_y, predicted_y))"
      ],
      "metadata": {
        "colab": {
          "base_uri": "https://localhost:8080/"
        },
        "id": "XK1xBA3ohh62",
        "outputId": "2375defe-1b6b-482b-ac2d-b92f8af3ee45"
      },
      "execution_count": null,
      "outputs": [
        {
          "output_type": "stream",
          "name": "stdout",
          "text": [
            "              precision    recall  f1-score   support\n",
            "\n",
            "           0       0.91      0.95      0.93       895\n",
            "           1       0.55      0.43      0.49       141\n",
            "\n",
            "    accuracy                           0.88      1036\n",
            "   macro avg       0.73      0.69      0.71      1036\n",
            "weighted avg       0.86      0.88      0.87      1036\n",
            "\n",
            "[[846  49]\n",
            " [ 80  61]]\n"
          ]
        }
      ]
    },
    {
      "cell_type": "code",
      "source": [
        "print(model.predict(X_test))\n",
        "print(model.predict_proba(X_test))\n",
        "\n",
        "secondrow = pd.DataFrame(X_test.iloc[5]).T\n",
        "print(secondrow)\n",
        "#secondpred = model.predict(secondrow)\n",
        "#print(secondpred)\n"
      ],
      "metadata": {
        "colab": {
          "base_uri": "https://localhost:8080/"
        },
        "id": "WYv0tpAT-_Pm",
        "outputId": "9c5b8f44-a0f9-44d3-cbd7-cac4a87eda57"
      },
      "execution_count": null,
      "outputs": [
        {
          "output_type": "stream",
          "name": "stdout",
          "text": [
            "[0 0 0 ... 1 0 0]\n",
            "[[0.99491364 0.00508634]\n",
            " [0.5684743  0.4315257 ]\n",
            " [0.8846653  0.11533467]\n",
            " ...\n",
            " [0.4777078  0.5222922 ]\n",
            " [0.9970723  0.0029277 ]\n",
            " [0.9969682  0.00303177]]\n",
            "           Age  RACE_categ   BMI  Vented  Alcohol_abuse  Smoker  HTN  HLD  \\\n",
            "644  74.916667         2.0  28.6     0.0            0.0     0.0  0.0  0.0   \n",
            "\n",
            "      DM  CAD   HF  Chronic lung disease  Creat_max  CRP_max   Ddimer_max  \\\n",
            "644  0.0  0.0  0.0                   0.0        1.5    191.0  2552.371449   \n",
            "\n",
            "     Plt_min  TBili_max  \n",
            "644    222.0        0.5  \n"
          ]
        }
      ]
    },
    {
      "cell_type": "code",
      "source": [
        "model.feature_importances_"
      ],
      "metadata": {
        "colab": {
          "base_uri": "https://localhost:8080/"
        },
        "id": "uyuzFcRJQIUN",
        "outputId": "e522dc87-88db-45ab-955f-71180774ea4c"
      },
      "execution_count": null,
      "outputs": [
        {
          "output_type": "execute_result",
          "data": {
            "text/plain": [
              "array([0.1057447 , 0.02881281, 0.03219336, 0.40560293, 0.03515386,\n",
              "       0.01826305, 0.0349107 , 0.03618886, 0.        , 0.03128411,\n",
              "       0.02628964, 0.03240597, 0.05397418, 0.04328313, 0.03172011,\n",
              "       0.05402185, 0.03015066], dtype=float32)"
            ]
          },
          "metadata": {},
          "execution_count": 379
        }
      ]
    },
    {
      "cell_type": "code",
      "source": [
        "feature_importance = model.feature_importances_\n",
        "sorted_idx = np.argsort(feature_importance)\n",
        "fig = plt.figure(figsize=(12, 6))\n",
        "plt.barh(range(len(sorted_idx)), feature_importance[sorted_idx], align='center')\n",
        "plt.yticks(range(len(sorted_idx)), np.array(X_test.columns)[sorted_idx])\n",
        "plt.title('Feature Importance')"
      ],
      "metadata": {
        "colab": {
          "base_uri": "https://localhost:8080/",
          "height": 407
        },
        "id": "kLuuMDIiQVV8",
        "outputId": "0c24be28-a877-4688-8949-70a182d068fa"
      },
      "execution_count": null,
      "outputs": [
        {
          "output_type": "execute_result",
          "data": {
            "text/plain": [
              "Text(0.5, 1.0, 'Feature Importance')"
            ]
          },
          "metadata": {},
          "execution_count": 380
        },
        {
          "output_type": "display_data",
          "data": {
            "text/plain": [
              "<Figure size 864x432 with 1 Axes>"
            ],
            "image/png": "[encoded data removed]"
          },
          "metadata": {
            "needs_background": "light"
          }
        }
      ]
    },
    {
      "cell_type": "markdown",
      "source": [
        "# Model - Vented Patients"
      ],
      "metadata": {
        "id": "h_oCiiK211V2"
      }
    },
    {
      "cell_type": "code",
      "source": [
        "X = vented.drop(columns = ['death', 'SEX', 'Vented'])\n",
        "y = vented['death']"
      ],
      "metadata": {
        "id": "2qj3tfw02_E3"
      },
      "execution_count": null,
      "outputs": []
    },
    {
      "cell_type": "code",
      "source": [
        "X_train, X_test, y_train, y_test = train_test_split(X, y, test_size=0.3)"
      ],
      "metadata": {
        "id": "-8PEtydV3Dc5"
      },
      "execution_count": null,
      "outputs": []
    },
    {
      "cell_type": "code",
      "source": [
        "model = xgb.XGBClassifier()\n",
        "model.fit(X_train, y_train)"
      ],
      "metadata": {
        "colab": {
          "base_uri": "https://localhost:8080/"
        },
        "id": "DZa3ChaM3GIr",
        "outputId": "c99dac72-2a0b-4e79-eeb7-f56c69ddb7b0"
      },
      "execution_count": null,
      "outputs": [
        {
          "output_type": "execute_result",
          "data": {
            "text/plain": [
              "XGBClassifier()"
            ]
          },
          "metadata": {},
          "execution_count": 384
        }
      ]
    },
    {
      "cell_type": "code",
      "source": [
        "booster = model.get_booster()\n",
        "booster.save_model('vented_model.bin')"
      ],
      "metadata": {
        "id": "blM5j667g8Jn"
      },
      "execution_count": null,
      "outputs": []
    },
    {
      "cell_type": "code",
      "source": [
        "expected_y  = y_test\n",
        "predicted_y = model.predict(X_test)"
      ],
      "metadata": {
        "id": "al0Dekdr3IqO"
      },
      "execution_count": null,
      "outputs": []
    },
    {
      "cell_type": "code",
      "source": [
        "print(metrics.classification_report(expected_y, predicted_y))\n",
        "print(metrics.confusion_matrix(expected_y, predicted_y))"
      ],
      "metadata": {
        "colab": {
          "base_uri": "https://localhost:8080/"
        },
        "id": "tRAzdE0U3LG8",
        "outputId": "d0c77622-7e7d-449a-ac2a-aefcad40f732"
      },
      "execution_count": null,
      "outputs": [
        {
          "output_type": "stream",
          "name": "stdout",
          "text": [
            "              precision    recall  f1-score   support\n",
            "\n",
            "           0       0.62      0.58      0.60        91\n",
            "           1       0.63      0.67      0.65        98\n",
            "\n",
            "    accuracy                           0.63       189\n",
            "   macro avg       0.63      0.63      0.63       189\n",
            "weighted avg       0.63      0.63      0.63       189\n",
            "\n",
            "[[53 38]\n",
            " [32 66]]\n"
          ]
        }
      ]
    },
    {
      "cell_type": "code",
      "source": [
        "print(model.predict(X_test))\n",
        "print(model.predict_proba(X_test))"
      ],
      "metadata": {
        "colab": {
          "base_uri": "https://localhost:8080/"
        },
        "id": "dGkGIrH__S2_",
        "outputId": "b2c5fa05-e8ee-493d-cde0-7106b64e8923"
      },
      "execution_count": null,
      "outputs": [
        {
          "output_type": "stream",
          "name": "stdout",
          "text": [
            "[0 0 1 0 0 1 0 0 1 1 0 0 1 0 1 0 1 0 1 1 0 0 1 0 0 1 1 0 1 1 1 1 1 0 1 1 0\n",
            " 1 0 1 1 0 1 0 0 0 0 1 1 1 1 1 1 1 0 0 1 1 0 1 0 0 1 1 1 1 1 1 0 1 1 1 1 1\n",
            " 1 0 1 1 1 0 1 0 1 0 0 1 0 1 1 0 0 1 1 0 1 0 0 1 1 0 1 0 0 0 0 0 1 1 0 0 1\n",
            " 0 1 0 1 1 1 0 0 1 1 1 0 1 1 1 1 1 1 1 0 1 1 1 1 1 1 1 0 0 0 0 0 0 0 1 1 0\n",
            " 0 0 0 0 1 1 0 0 1 0 0 1 1 0 0 0 0 1 1 1 1 1 0 0 0 1 1 0 0 0 0 1 1 0 0 1 1\n",
            " 1 1 1 0]\n",
            "[[0.60863566 0.39136434]\n",
            " [0.55731833 0.44268164]\n",
            " [0.45883912 0.5411609 ]\n",
            " [0.8488577  0.15114228]\n",
            " [0.59451365 0.40548638]\n",
            " [0.42561114 0.57438886]\n",
            " [0.59677255 0.40322742]\n",
            " [0.5698769  0.43012312]\n",
            " [0.26958978 0.7304102 ]\n",
            " [0.12136841 0.8786316 ]\n",
            " [0.5429235  0.4570765 ]\n",
            " [0.8631954  0.13680458]\n",
            " [0.47649002 0.52351   ]\n",
            " [0.8153839  0.18461607]\n",
            " [0.38470072 0.6152993 ]\n",
            " [0.78390044 0.21609956]\n",
            " [0.44751775 0.55248225]\n",
            " [0.676376   0.323624  ]\n",
            " [0.20354283 0.7964572 ]\n",
            " [0.31730664 0.68269336]\n",
            " [0.8396708  0.16032921]\n",
            " [0.8554542  0.14454582]\n",
            " [0.4836325  0.5163675 ]\n",
            " [0.6937804  0.30621958]\n",
            " [0.7845066  0.2154934 ]\n",
            " [0.45937097 0.540629  ]\n",
            " [0.3866511  0.6133489 ]\n",
            " [0.61531764 0.38468236]\n",
            " [0.47099918 0.5290008 ]\n",
            " [0.3613417  0.6386583 ]\n",
            " [0.39751536 0.60248464]\n",
            " [0.40056014 0.59943986]\n",
            " [0.48265707 0.5173429 ]\n",
            " [0.68775374 0.31224626]\n",
            " [0.24912268 0.7508773 ]\n",
            " [0.1830957  0.8169043 ]\n",
            " [0.9058573  0.09414265]\n",
            " [0.32553428 0.6744657 ]\n",
            " [0.78893787 0.21106212]\n",
            " [0.38156134 0.61843866]\n",
            " [0.42185825 0.57814175]\n",
            " [0.5091593  0.49084064]\n",
            " [0.40198427 0.5980157 ]\n",
            " [0.52519476 0.47480524]\n",
            " [0.82084584 0.17915413]\n",
            " [0.5723263  0.42767373]\n",
            " [0.7433312  0.25666878]\n",
            " [0.2526391  0.7473609 ]\n",
            " [0.4679929  0.5320071 ]\n",
            " [0.1427288  0.8572712 ]\n",
            " [0.22119343 0.77880657]\n",
            " [0.20797694 0.79202306]\n",
            " [0.13179088 0.8682091 ]\n",
            " [0.2366004  0.7633996 ]\n",
            " [0.63975286 0.36024714]\n",
            " [0.8893229  0.1106771 ]\n",
            " [0.47465426 0.52534574]\n",
            " [0.4401915  0.5598085 ]\n",
            " [0.6392182  0.3607818 ]\n",
            " [0.47669077 0.52330923]\n",
            " [0.7003575  0.2996425 ]\n",
            " [0.5128207  0.4871793 ]\n",
            " [0.18707365 0.81292635]\n",
            " [0.3114838  0.6885162 ]\n",
            " [0.32857138 0.6714286 ]\n",
            " [0.4165395  0.5834605 ]\n",
            " [0.2615329  0.7384671 ]\n",
            " [0.48447448 0.5155255 ]\n",
            " [0.62162185 0.37837812]\n",
            " [0.40327287 0.59672713]\n",
            " [0.32472664 0.67527336]\n",
            " [0.4230789  0.5769211 ]\n",
            " [0.38156134 0.61843866]\n",
            " [0.2198748  0.7801252 ]\n",
            " [0.10639644 0.89360356]\n",
            " [0.6525823  0.3474177 ]\n",
            " [0.43582237 0.56417763]\n",
            " [0.26200473 0.73799527]\n",
            " [0.31412053 0.68587947]\n",
            " [0.704029   0.29597098]\n",
            " [0.48467046 0.51532954]\n",
            " [0.6206349  0.37936506]\n",
            " [0.47274858 0.5272514 ]\n",
            " [0.5360534  0.46394658]\n",
            " [0.7921187  0.20788127]\n",
            " [0.40499592 0.5950041 ]\n",
            " [0.7652651  0.23473491]\n",
            " [0.49029714 0.50970286]\n",
            " [0.19132543 0.8086746 ]\n",
            " [0.69863    0.30137005]\n",
            " [0.55630314 0.4436969 ]\n",
            " [0.49424416 0.50575584]\n",
            " [0.32067043 0.6793296 ]\n",
            " [0.8149188  0.18508118]\n",
            " [0.4050191  0.5949809 ]\n",
            " [0.68504417 0.31495583]\n",
            " [0.8486173  0.1513827 ]\n",
            " [0.47918004 0.52081996]\n",
            " [0.30103004 0.69896996]\n",
            " [0.7192253  0.28077474]\n",
            " [0.4775917  0.5224083 ]\n",
            " [0.9042033  0.09579672]\n",
            " [0.7818738  0.21812615]\n",
            " [0.54030156 0.4596984 ]\n",
            " [0.87858737 0.12141263]\n",
            " [0.67250466 0.32749534]\n",
            " [0.34797633 0.6520237 ]\n",
            " [0.21828681 0.7817132 ]\n",
            " [0.8334817  0.16651826]\n",
            " [0.88325065 0.11674934]\n",
            " [0.3955708  0.6044292 ]\n",
            " [0.55658627 0.44341376]\n",
            " [0.3566147  0.6433853 ]\n",
            " [0.8650255  0.1349745 ]\n",
            " [0.1108014  0.8891986 ]\n",
            " [0.3451525  0.6548475 ]\n",
            " [0.07857502 0.921425  ]\n",
            " [0.5969581  0.4030419 ]\n",
            " [0.7477036  0.2522964 ]\n",
            " [0.3648467  0.6351533 ]\n",
            " [0.4184627  0.5815373 ]\n",
            " [0.3212278  0.6787722 ]\n",
            " [0.75059855 0.24940145]\n",
            " [0.34428644 0.65571356]\n",
            " [0.41710496 0.58289504]\n",
            " [0.06404418 0.9359558 ]\n",
            " [0.36028928 0.6397107 ]\n",
            " [0.3776999  0.6223001 ]\n",
            " [0.17572278 0.8242772 ]\n",
            " [0.31317794 0.68682206]\n",
            " [0.5679982  0.43200183]\n",
            " [0.23035574 0.76964426]\n",
            " [0.2803657  0.7196343 ]\n",
            " [0.26438254 0.73561746]\n",
            " [0.19934547 0.80065453]\n",
            " [0.38675487 0.6132451 ]\n",
            " [0.3754356  0.6245644 ]\n",
            " [0.43791354 0.56208646]\n",
            " [0.56063914 0.43936086]\n",
            " [0.5755776  0.42442238]\n",
            " [0.5654423  0.4345577 ]\n",
            " [0.655314   0.34468597]\n",
            " [0.66811544 0.33188456]\n",
            " [0.7174613  0.2825387 ]\n",
            " [0.58435524 0.4156448 ]\n",
            " [0.19525719 0.8047428 ]\n",
            " [0.27284276 0.72715724]\n",
            " [0.86978865 0.13021134]\n",
            " [0.8825551  0.11744487]\n",
            " [0.8459582  0.15404181]\n",
            " [0.5129421  0.48705795]\n",
            " [0.8351658  0.16483422]\n",
            " [0.27610618 0.7238938 ]\n",
            " [0.37055147 0.62944853]\n",
            " [0.5127899  0.4872101 ]\n",
            " [0.62809324 0.37190676]\n",
            " [0.10482872 0.8951713 ]\n",
            " [0.8824224  0.11757762]\n",
            " [0.6956316  0.30436835]\n",
            " [0.12463337 0.8753666 ]\n",
            " [0.49514645 0.50485355]\n",
            " [0.60656774 0.39343223]\n",
            " [0.6971606  0.3028394 ]\n",
            " [0.65901554 0.34098443]\n",
            " [0.88804984 0.11195016]\n",
            " [0.3776999  0.6223001 ]\n",
            " [0.40023446 0.59976554]\n",
            " [0.22268915 0.77731085]\n",
            " [0.09452814 0.90547186]\n",
            " [0.48579276 0.51420724]\n",
            " [0.82826066 0.17173935]\n",
            " [0.6298131  0.37018692]\n",
            " [0.7083206  0.29167938]\n",
            " [0.32789326 0.67210674]\n",
            " [0.4661613  0.5338387 ]\n",
            " [0.55160296 0.44839704]\n",
            " [0.704029   0.29597098]\n",
            " [0.56398165 0.43601838]\n",
            " [0.8292082  0.1707918 ]\n",
            " [0.1372518  0.8627482 ]\n",
            " [0.38156134 0.61843866]\n",
            " [0.5859387  0.41406128]\n",
            " [0.70860493 0.29139507]\n",
            " [0.40577042 0.5942296 ]\n",
            " [0.44834864 0.55165136]\n",
            " [0.4285192  0.5714808 ]\n",
            " [0.46891463 0.5310854 ]\n",
            " [0.44423586 0.55576414]\n",
            " [0.7562189  0.24378107]]\n"
          ]
        }
      ]
    },
    {
      "cell_type": "code",
      "source": [
        "model.feature_importances_"
      ],
      "metadata": {
        "colab": {
          "base_uri": "https://localhost:8080/"
        },
        "id": "lDSWx82CTMf_",
        "outputId": "687b818f-8d7b-43a2-85e8-2c8bb322e46c"
      },
      "execution_count": null,
      "outputs": [
        {
          "output_type": "execute_result",
          "data": {
            "text/plain": [
              "array([0.06392636, 0.1080088 , 0.05221254, 0.06601731, 0.02738722,\n",
              "       0.04753383, 0.05858447, 0.03481133, 0.08053051, 0.03845999,\n",
              "       0.05739238, 0.10884646, 0.04211311, 0.05539351, 0.10146689,\n",
              "       0.05731532], dtype=float32)"
            ]
          },
          "metadata": {},
          "execution_count": 389
        }
      ]
    },
    {
      "cell_type": "code",
      "source": [
        "feature_importance = model.feature_importances_\n",
        "sorted_idx = np.argsort(feature_importance)\n",
        "fig = plt.figure(figsize=(12, 6))\n",
        "plt.barh(range(len(sorted_idx)), feature_importance[sorted_idx], align='center')\n",
        "plt.yticks(range(len(sorted_idx)), np.array(X_test.columns)[sorted_idx])\n",
        "plt.title('Feature Importance')"
      ],
      "metadata": {
        "colab": {
          "base_uri": "https://localhost:8080/",
          "height": 407
        },
        "id": "d44lwUoJTOr7",
        "outputId": "bf6542ff-bd5a-495b-d137-0b06dd83c9bd"
      },
      "execution_count": null,
      "outputs": [
        {
          "output_type": "execute_result",
          "data": {
            "text/plain": [
              "Text(0.5, 1.0, 'Feature Importance')"
            ]
          },
          "metadata": {},
          "execution_count": 390
        },
        {
          "output_type": "display_data",
          "data": {
            "text/plain": [
              "<Figure size 864x432 with 1 Axes>"
            ],
            "image/png": "[encoded data removed]"
          },
          "metadata": {
            "needs_background": "light"
          }
        }
      ]
    },
    {
      "cell_type": "markdown",
      "source": [
        "# Model - Non-Vented Patients"
      ],
      "metadata": {
        "id": "7Nu4Zs_i17Q0"
      }
    },
    {
      "cell_type": "code",
      "source": [
        "X = not_vented.drop(columns = ['death', 'SEX', 'Vented'])\n",
        "y = not_vented['death']"
      ],
      "metadata": {
        "id": "RKcJw2QJ3dNI"
      },
      "execution_count": null,
      "outputs": []
    },
    {
      "cell_type": "code",
      "source": [
        "X_train, X_test, y_train, y_test = train_test_split(X, y, test_size=0.3)"
      ],
      "metadata": {
        "id": "pUUsJ8Lx3dmM"
      },
      "execution_count": null,
      "outputs": []
    },
    {
      "cell_type": "code",
      "source": [
        "model = xgb.XGBClassifier()\n",
        "model.fit(X_train, y_train)"
      ],
      "metadata": {
        "colab": {
          "base_uri": "https://localhost:8080/"
        },
        "id": "EQquEoEK3ds5",
        "outputId": "67cb531e-0428-45b6-8c64-c0888b33a7bd"
      },
      "execution_count": null,
      "outputs": [
        {
          "output_type": "execute_result",
          "data": {
            "text/plain": [
              "XGBClassifier()"
            ]
          },
          "metadata": {},
          "execution_count": 393
        }
      ]
    },
    {
      "cell_type": "code",
      "source": [
        "booster = model.get_booster()\n",
        "booster.save_model('not_vented_model.bin')"
      ],
      "metadata": {
        "id": "NI6dlSX318jL"
      },
      "execution_count": null,
      "outputs": []
    },
    {
      "cell_type": "code",
      "source": [
        "expected_y  = y_test\n",
        "predicted_y = model.predict(X_test)"
      ],
      "metadata": {
        "id": "s0UKRA9j3mMI"
      },
      "execution_count": null,
      "outputs": []
    },
    {
      "cell_type": "code",
      "source": [
        "print(metrics.classification_report(expected_y, predicted_y))\n",
        "print(metrics.confusion_matrix(expected_y, predicted_y))"
      ],
      "metadata": {
        "colab": {
          "base_uri": "https://localhost:8080/"
        },
        "id": "kP3Az1bj3m2W",
        "outputId": "85d16ffb-4d93-4c27-d2d0-de4489b5a894"
      },
      "execution_count": null,
      "outputs": [
        {
          "output_type": "stream",
          "name": "stdout",
          "text": [
            "              precision    recall  f1-score   support\n",
            "\n",
            "           0       0.94      0.99      0.97       794\n",
            "           1       0.38      0.09      0.15        53\n",
            "\n",
            "    accuracy                           0.93       847\n",
            "   macro avg       0.66      0.54      0.56       847\n",
            "weighted avg       0.91      0.93      0.91       847\n",
            "\n",
            "[[786   8]\n",
            " [ 48   5]]\n"
          ]
        }
      ]
    },
    {
      "cell_type": "code",
      "source": [
        "print(model.predict(X_test))\n",
        "print(model.predict_proba(X_test))"
      ],
      "metadata": {
        "colab": {
          "base_uri": "https://localhost:8080/"
        },
        "id": "-pB2LaQY_VCH",
        "outputId": "684a83aa-451b-4e6e-bae5-3b5e6b44bac0"
      },
      "execution_count": null,
      "outputs": [
        {
          "output_type": "stream",
          "name": "stdout",
          "text": [
            "[0 0 0 0 0 0 0 0 0 0 0 0 0 0 0 0 0 0 0 0 0 0 0 0 0 0 0 0 0 0 0 0 0 0 0 0 0\n",
            " 0 0 0 0 0 0 0 0 0 0 0 0 0 0 0 0 0 0 0 0 0 0 0 0 0 0 0 0 0 0 0 0 0 0 0 0 0\n",
            " 0 0 0 0 0 0 0 0 0 0 0 0 0 0 0 0 0 0 0 0 0 0 0 0 0 0 0 0 0 0 0 0 0 0 0 0 0\n",
            " 0 0 0 0 0 0 0 0 0 0 0 0 0 0 0 0 0 0 0 0 0 0 0 0 0 0 0 0 0 0 0 0 0 0 0 0 0\n",
            " 0 0 0 0 0 0 0 0 0 0 0 0 0 0 0 0 0 0 0 0 0 0 0 0 0 0 0 0 0 0 0 0 0 0 0 0 0\n",
            " 0 0 0 0 0 0 0 0 0 0 0 0 0 0 0 0 0 0 0 0 0 0 0 0 0 1 0 0 0 0 0 0 0 0 0 0 0\n",
            " 0 0 1 0 0 0 0 0 0 0 0 0 0 0 0 0 0 0 0 0 0 0 0 0 0 0 0 0 0 0 0 0 0 0 0 0 0\n",
            " 0 0 0 0 0 0 0 0 0 0 0 0 0 0 0 0 0 0 0 0 0 0 0 0 0 0 0 0 0 0 0 0 0 0 0 0 0\n",
            " 0 0 0 0 0 0 0 0 0 0 0 0 0 0 0 0 0 0 0 0 0 0 0 0 0 0 0 0 0 0 0 0 0 0 0 0 0\n",
            " 0 0 0 0 0 0 0 0 0 0 0 0 0 0 0 0 0 0 0 0 0 0 0 0 0 0 0 0 0 0 0 0 0 0 0 0 0\n",
            " 0 0 1 0 0 0 0 0 0 0 0 0 0 0 0 0 0 0 0 0 0 0 0 0 0 0 0 0 0 0 0 0 0 0 0 0 0\n",
            " 0 0 0 0 0 0 0 0 0 1 0 0 0 0 0 0 0 0 0 0 0 0 0 0 0 0 0 0 0 0 0 0 0 0 0 0 0\n",
            " 0 0 0 1 0 0 0 0 0 0 0 0 0 0 0 0 0 0 0 0 0 0 0 0 0 0 0 0 0 0 0 0 0 0 0 0 0\n",
            " 0 0 0 0 0 0 0 0 0 0 0 0 0 0 0 0 0 0 0 0 0 0 0 0 0 0 0 0 0 1 0 0 0 0 0 0 0\n",
            " 1 0 0 0 0 0 0 0 0 0 0 0 0 0 0 0 0 0 0 0 0 0 0 0 0 0 0 0 0 1 0 0 0 0 0 0 0\n",
            " 0 0 0 0 0 0 0 0 0 0 0 0 0 0 0 0 0 0 0 0 0 0 0 0 0 0 0 0 0 0 0 0 0 0 0 0 0\n",
            " 0 1 0 0 0 0 0 0 0 0 0 0 0 0 0 0 0 0 0 0 0 0 0 0 0 0 0 0 0 0 0 0 0 0 0 0 0\n",
            " 0 0 0 0 0 0 0 0 0 0 0 0 0 0 0 0 0 0 0 0 0 0 0 0 0 0 0 0 0 0 0 0 0 0 0 0 0\n",
            " 0 0 0 0 0 1 0 0 0 0 0 0 0 0 0 0 0 0 0 0 0 0 0 0 0 0 0 0 0 0 0 0 0 0 0 0 0\n",
            " 0 0 0 0 0 0 0 0 0 0 0 0 0 0 0 0 0 0 0 0 0 0 0 0 0 0 0 0 0 0 0 0 0 0 0 0 0\n",
            " 0 0 0 0 0 0 0 0 0 0 0 0 0 0 1 0 0 0 0 0 0 0 0 0 0 0 0 0 0 0 0 0 0 0 0 0 0\n",
            " 0 0 0 0 0 0 0 0 0 0 0 0 0 0 0 0 0 0 0 0 0 0 0 0 1 0 0 0 0 0 0 0 0 0 0 0 0\n",
            " 0 0 0 0 0 0 0 0 0 0 0 0 0 0 0 0 0 0 0 0 0 0 1 0 0 0 0 0 0 0 0 0 0]\n",
            "[[7.1773177e-01 2.8226823e-01]\n",
            " [9.9352562e-01 6.4743483e-03]\n",
            " [9.9536353e-01 4.6364581e-03]\n",
            " ...\n",
            " [6.0740799e-01 3.9259201e-01]\n",
            " [9.1607630e-01 8.3923727e-02]\n",
            " [9.9917412e-01 8.2586874e-04]]\n"
          ]
        }
      ]
    },
    {
      "cell_type": "code",
      "source": [
        "model.feature_importances_"
      ],
      "metadata": {
        "colab": {
          "base_uri": "https://localhost:8080/"
        },
        "id": "WFps25sXTTaC",
        "outputId": "1ad49385-24fd-441e-d2a5-8bb6235043fb"
      },
      "execution_count": null,
      "outputs": [
        {
          "output_type": "execute_result",
          "data": {
            "text/plain": [
              "array([0.21621566, 0.04659458, 0.04940828, 0.05720626, 0.04247125,\n",
              "       0.03710728, 0.02230358, 0.07465652, 0.0358783 , 0.05947462,\n",
              "       0.05863912, 0.0662726 , 0.07531166, 0.05164979, 0.06803734,\n",
              "       0.0387732 ], dtype=float32)"
            ]
          },
          "metadata": {},
          "execution_count": 398
        }
      ]
    },
    {
      "cell_type": "code",
      "source": [
        "feature_importance = model.feature_importances_\n",
        "sorted_idx = np.argsort(feature_importance)\n",
        "fig = plt.figure(figsize=(12, 6))\n",
        "plt.barh(range(len(sorted_idx)), feature_importance[sorted_idx], align='center')\n",
        "plt.yticks(range(len(sorted_idx)), np.array(X_test.columns)[sorted_idx])\n",
        "plt.title('Feature Importance')"
      ],
      "metadata": {
        "colab": {
          "base_uri": "https://localhost:8080/",
          "height": 407
        },
        "id": "FDsief1DTXLO",
        "outputId": "26f9b097-a393-443b-927b-6243d56a30c8"
      },
      "execution_count": null,
      "outputs": [
        {
          "output_type": "execute_result",
          "data": {
            "text/plain": [
              "Text(0.5, 1.0, 'Feature Importance')"
            ]
          },
          "metadata": {},
          "execution_count": 399
        },
        {
          "output_type": "display_data",
          "data": {
            "text/plain": [
              "<Figure size 864x432 with 1 Axes>"
            ],
            "image/png": "[encoded data removed]"
          },
          "metadata": {
            "needs_background": "light"
          }
        }
      ]
    }
  ]
}